{
 "cells": [
  {
   "cell_type": "code",
   "execution_count": 1,
   "id": "c5270e1e-49f9-486b-b7c5-d8ab4203e81f",
   "metadata": {},
   "outputs": [
    {
     "data": {
      "text/plain": [
       "True"
      ]
     },
     "execution_count": 1,
     "metadata": {},
     "output_type": "execute_result"
    }
   ],
   "source": [
    "from dotenv import load_dotenv\n",
    "import os\n",
    "\n",
    "load_dotenv()"
   ]
  },
  {
   "cell_type": "code",
   "execution_count": 2,
   "id": "74de58cc-0bfa-44a6-ac6e-4ff63b3176a0",
   "metadata": {},
   "outputs": [],
   "source": [
    "GOOGLE\n",
    "GEMINI_API_KEY = os.getenv(\"GEMINI_API_KEY2\")"
   ]
  },
  {
   "cell_type": "code",
   "execution_count": 5,
   "id": "56cc3e12-dc81-4057-a7ea-6f71d836d1be",
   "metadata": {},
   "outputs": [],
   "source": [
    "os.environ[\"GOOGLE_APPLICATION_CREDENTIALS\"] = os.getenv(\"GOOGLE_APPLICATION_CREDENTIALS\")"
   ]
  },
  {
   "cell_type": "code",
   "execution_count": 29,
   "id": "f49861d7-85f4-4d94-abbf-1db7e563e396",
   "metadata": {},
   "outputs": [],
   "source": [
    "import io\n",
    "import PIL\n",
    "from PIL import Image\n",
    "import pdf2image\n",
    "\n",
    "def resize_image(image, max_size=1920):\n",
    "    \"\"\"\n",
    "    Resize the image to fit within a maximum size while preserving the aspect ratio.\n",
    "    \"\"\"\n",
    "    width, height = image.size\n",
    "    if max(width, height) <= max_size:\n",
    "        return image\n",
    "    aspect_ratio = width / height\n",
    "    if width > height:\n",
    "        new_width = max_size\n",
    "        new_height = int(max_size / aspect_ratio)\n",
    "    else:\n",
    "        new_height = max_size\n",
    "        new_width = int(max_size * aspect_ratio)\n",
    "    return image.resize((new_width, new_height), PIL.Image.LANCZOS)\n",
    "\n",
    "def get_image_file_bytes_from_multimedia(file_bytes, content_type) -> list:\n",
    "    image_bytes_list = []\n",
    "    if content_type == \"application/pdf\":\n",
    "        images = pdf2image.convert_from_bytes(file_bytes)\n",
    "        images = [resize_image(img) for img in images]\n",
    "        for image in images:\n",
    "            img_bytes = io.BytesIO()\n",
    "            image.save(img_bytes, format=\"JPEG\")\n",
    "            image_bytes_list.append(img_bytes.getvalue())\n",
    "    elif content_type in [\"image/tiff\", \"image/tif\"]:\n",
    "        image = Image.open(io.BytesIO(file_bytes))\n",
    "        try:\n",
    "            for i in range(image.n_frames):\n",
    "                image.seek(i)\n",
    "                page_image = image.copy().convert(\"RGB\")\n",
    "                resized_image = resize_image(page_image)\n",
    "                img_bytes = io.BytesIO()\n",
    "                resized_image.save(img_bytes, format=\"JPEG\")\n",
    "                image_bytes_list.append(img_bytes.getvalue())\n",
    "        except Exception as e:\n",
    "            print(e)\n",
    "            image_bytes_list.append(file_bytes)\n",
    "    else:\n",
    "        image_bytes_list.append(file_bytes)\n",
    "    \n",
    "    return image_bytes_list"
   ]
  },
  {
   "cell_type": "code",
   "execution_count": 30,
   "id": "06fe6f7f-57bb-41d3-8c24-b312fa44c3aa",
   "metadata": {},
   "outputs": [],
   "source": [
    "# content = get_image_file_bytes_from_multimedia(\"aiims-sample-2_page-0001.pdf\",content_type=\"application/pdf\")"
   ]
  },
  {
   "cell_type": "code",
   "execution_count": 31,
   "id": "4d95367c-9e43-4467-b12f-ebac9ac8dc5b",
   "metadata": {},
   "outputs": [],
   "source": [
    "from pdf2image import convert_from_path, convert_from_bytes\n",
    "from pdf2image.exceptions import (\n",
    "    PDFInfoNotInstalledError,\n",
    "    PDFPageCountError,\n",
    "    PDFSyntaxError\n",
    ")"
   ]
  },
  {
   "cell_type": "code",
   "execution_count": 32,
   "id": "40ffad9d-b907-4852-b12d-3b93df967e38",
   "metadata": {},
   "outputs": [],
   "source": [
    "images = convert_from_path('aiims-sample-2.pdf')"
   ]
  },
  {
   "cell_type": "code",
   "execution_count": 34,
   "id": "d5f631c5-0083-470c-8941-067f377aa712",
   "metadata": {},
   "outputs": [],
   "source": [
    "img_bytes = io.BytesIO()\n",
    "images[0].save(img_bytes, format=\"JPEG\")"
   ]
  },
  {
   "cell_type": "code",
   "execution_count": 35,
   "id": "1e8d5245-e012-463c-be53-dc97b7223f2b",
   "metadata": {},
   "outputs": [],
   "source": [
    "# from google.cloud import vision\n",
    "\n",
    "# class GoogleOCR:\n",
    "#     def __init__(self):\n",
    "#         self.client = vision.ImageAnnotatorClient()\n",
    "    \n",
    "#     def extract_text_from_image_bytes_list(self, image_bytes_list: list):\n",
    "#         ocr_text = \"\"\n",
    "#         for image_bytes in image_bytes_list:\n",
    "#             image_vision = vision.Image(content=image_bytes)\n",
    "#             response = self.client.text_detection(image=image_vision)\n",
    "#             ocr_text += response.full_text_annotation.text + \"\\n\\n\\n\"\n",
    "\n",
    "#         return ocr_text.strip()"
   ]
  },
  {
   "cell_type": "code",
   "execution_count": 16,
   "id": "905ee6c2-658b-421d-92ee-faa3123553fc",
   "metadata": {},
   "outputs": [],
   "source": [
    "path = \"aiims-sample-2_page-0001.jpg\"\n",
    "with open(path, \"rb\") as image_file:\n",
    "    content = image_file.read()"
   ]
  },
  {
   "cell_type": "code",
   "execution_count": 17,
   "id": "849c3aad-64af-408c-88be-c8f13043d993",
   "metadata": {},
   "outputs": [],
   "source": [
    "client = vision.ImageAnnotatorClient()"
   ]
  },
  {
   "cell_type": "code",
   "execution_count": 18,
   "id": "d5aac93f-15a2-4ce3-8a67-7fef9d5f83fe",
   "metadata": {},
   "outputs": [],
   "source": [
    "image = vision.Image(content=content)"
   ]
  },
  {
   "cell_type": "code",
   "execution_count": 38,
   "id": "f249ccae-046d-4a4b-80a8-fcbcfa79f84e",
   "metadata": {},
   "outputs": [
    {
     "ename": "TypeError",
     "evalue": "get() expected a dict or protobuf message, got <class 'bytes'>.",
     "output_type": "error",
     "traceback": [
      "\u001b[31m---------------------------------------------------------------------------\u001b[39m",
      "\u001b[31mTypeError\u001b[39m                                 Traceback (most recent call last)",
      "\u001b[36mCell\u001b[39m\u001b[36m \u001b[39m\u001b[32mIn[38]\u001b[39m\u001b[32m, line 1\u001b[39m\n\u001b[32m----> \u001b[39m\u001b[32m1\u001b[39m response = \u001b[43mclient\u001b[49m\u001b[43m.\u001b[49m\u001b[43mtext_detection\u001b[49m\u001b[43m(\u001b[49m\u001b[43mimage\u001b[49m\u001b[43m=\u001b[49m\u001b[43mimg_bytes\u001b[49m\u001b[43m.\u001b[49m\u001b[43mgetvalue\u001b[49m\u001b[43m(\u001b[49m\u001b[43m)\u001b[49m\u001b[43m)\u001b[49m\n",
      "\u001b[36mFile \u001b[39m\u001b[32m/opt/miniconda3/lib/python3.12/site-packages/google/cloud/vision_helpers/decorators.py:112\u001b[39m, in \u001b[36m_create_single_feature_method.<locals>.inner\u001b[39m\u001b[34m(self, image, max_results, retry, timeout, metadata, **kwargs)\u001b[39m\n\u001b[32m    110\u001b[39m     copied_features[\u001b[33m\"\u001b[39m\u001b[33mmax_results\u001b[39m\u001b[33m\"\u001b[39m] = max_results\n\u001b[32m    111\u001b[39m request = \u001b[38;5;28mdict\u001b[39m(image=image, features=[copied_features], **kwargs)\n\u001b[32m--> \u001b[39m\u001b[32m112\u001b[39m response = \u001b[38;5;28;43mself\u001b[39;49m\u001b[43m.\u001b[49m\u001b[43mannotate_image\u001b[49m\u001b[43m(\u001b[49m\n\u001b[32m    113\u001b[39m \u001b[43m    \u001b[49m\u001b[43mrequest\u001b[49m\u001b[43m,\u001b[49m\u001b[43m \u001b[49m\u001b[43mretry\u001b[49m\u001b[43m=\u001b[49m\u001b[43mretry\u001b[49m\u001b[43m,\u001b[49m\u001b[43m \u001b[49m\u001b[43mtimeout\u001b[49m\u001b[43m=\u001b[49m\u001b[43mtimeout\u001b[49m\u001b[43m,\u001b[49m\u001b[43m \u001b[49m\u001b[43mmetadata\u001b[49m\u001b[43m=\u001b[49m\u001b[43mmetadata\u001b[49m\n\u001b[32m    114\u001b[39m \u001b[43m\u001b[49m\u001b[43m)\u001b[49m\n\u001b[32m    115\u001b[39m \u001b[38;5;28;01mreturn\u001b[39;00m response\n",
      "\u001b[36mFile \u001b[39m\u001b[32m/opt/miniconda3/lib/python3.12/site-packages/google/cloud/vision_helpers/__init__.py:64\u001b[39m, in \u001b[36mVisionHelpers.annotate_image\u001b[39m\u001b[34m(self, request, retry, timeout, metadata)\u001b[39m\n\u001b[32m     61\u001b[39m     image = protobuf.get(request, \u001b[33m\"\u001b[39m\u001b[33mimage\u001b[39m\u001b[33m\"\u001b[39m)\n\u001b[32m     63\u001b[39m \u001b[38;5;66;03m# If a filename is provided, read the file.\u001b[39;00m\n\u001b[32m---> \u001b[39m\u001b[32m64\u001b[39m filename = \u001b[43mprotobuf\u001b[49m\u001b[43m.\u001b[49m\u001b[43mget\u001b[49m\u001b[43m(\u001b[49m\u001b[43mimage\u001b[49m\u001b[43m,\u001b[49m\u001b[43m \u001b[49m\u001b[33;43m\"\u001b[39;49m\u001b[33;43msource.filename\u001b[39;49m\u001b[33;43m\"\u001b[39;49m\u001b[43m,\u001b[49m\u001b[43m \u001b[49m\u001b[43mdefault\u001b[49m\u001b[43m=\u001b[49m\u001b[38;5;28;43;01mNone\u001b[39;49;00m\u001b[43m)\u001b[49m\n\u001b[32m     65\u001b[39m \u001b[38;5;28;01mif\u001b[39;00m filename:\n\u001b[32m     66\u001b[39m     \u001b[38;5;28;01mwith\u001b[39;00m \u001b[38;5;28mopen\u001b[39m(filename, \u001b[33m\"\u001b[39m\u001b[33mrb\u001b[39m\u001b[33m\"\u001b[39m) \u001b[38;5;28;01mas\u001b[39;00m img_file:\n",
      "\u001b[36mFile \u001b[39m\u001b[32m/opt/miniconda3/lib/python3.12/site-packages/google/api_core/protobuf_helpers.py:179\u001b[39m, in \u001b[36mget\u001b[39m\u001b[34m(msg_or_dict, key, default)\u001b[39m\n\u001b[32m    177\u001b[39m     answer = msg_or_dict.get(key, default)\n\u001b[32m    178\u001b[39m \u001b[38;5;28;01melse\u001b[39;00m:\n\u001b[32m--> \u001b[39m\u001b[32m179\u001b[39m     \u001b[38;5;28;01mraise\u001b[39;00m \u001b[38;5;167;01mTypeError\u001b[39;00m(\n\u001b[32m    180\u001b[39m         \u001b[33m\"\u001b[39m\u001b[33mget() expected a dict or protobuf message, got \u001b[39m\u001b[38;5;132;01m{!r}\u001b[39;00m\u001b[33m.\u001b[39m\u001b[33m\"\u001b[39m.format(\n\u001b[32m    181\u001b[39m             \u001b[38;5;28mtype\u001b[39m(msg_or_dict)\n\u001b[32m    182\u001b[39m         )\n\u001b[32m    183\u001b[39m     )\n\u001b[32m    185\u001b[39m \u001b[38;5;66;03m# If the object we got back is our sentinel, raise KeyError; this is\u001b[39;00m\n\u001b[32m    186\u001b[39m \u001b[38;5;66;03m# a \"not found\" case.\u001b[39;00m\n\u001b[32m    187\u001b[39m \u001b[38;5;28;01mif\u001b[39;00m answer \u001b[38;5;129;01mis\u001b[39;00m _SENTINEL:\n",
      "\u001b[31mTypeError\u001b[39m: get() expected a dict or protobuf message, got <class 'bytes'>."
     ]
    }
   ],
   "source": [
    "response = client.text_detection(image=img_bytes.getvalue())"
   ]
  },
  {
   "cell_type": "code",
   "execution_count": 20,
   "id": "7cea2c80-3f67-4904-b02c-05a86b6d96a0",
   "metadata": {},
   "outputs": [
    {
     "data": {
      "text/plain": [
       "'14/5/18\\nNo from Yo.\\nفي\\n95% of healty.\\nAdor\\n.\\n•\\nwords neothy\\nFuce, Wall & chest words\\npolporch.\\nNo new nudes palpakh.\\nput. Flu yearly 113/5/19, 2PM, RV=5 with\\nr\\nсхе-ра\\n06/05/19\\nAn\\nno freek complaint\\nсорваться\\nLoregionally\\nNAD.\\n7\\nOXR & MAD.\\nthe yearly 7. 10/05/2070. (2 pm Room no.5.\\n14/11/22 - No fut cph\\n01E- Louguel NED\\nand flu yeadly in Rhos\\n28/7/25 $280\\n76. NED.\\n༠-\\n-\\n-LTRU K2\\nголову\\nAch - Flu ofte 1 year\\nLean\\nFRO\\n05/\\nfir\\nиз'"
      ]
     },
     "execution_count": 20,
     "metadata": {},
     "output_type": "execute_result"
    }
   ],
   "source": [
    "response.full_text_annotation.text"
   ]
  },
  {
   "cell_type": "code",
   "execution_count": null,
   "id": "ca07abcc-bd08-4dea-89dc-129fe1e46c87",
   "metadata": {},
   "outputs": [],
   "source": []
  }
 ],
 "metadata": {
  "kernelspec": {
   "display_name": "Python 3 (ipykernel)",
   "language": "python",
   "name": "python3"
  },
  "language_info": {
   "codemirror_mode": {
    "name": "ipython",
    "version": 3
   },
   "file_extension": ".py",
   "mimetype": "text/x-python",
   "name": "python",
   "nbconvert_exporter": "python",
   "pygments_lexer": "ipython3",
   "version": "3.12.2"
  }
 },
 "nbformat": 4,
 "nbformat_minor": 5
}
